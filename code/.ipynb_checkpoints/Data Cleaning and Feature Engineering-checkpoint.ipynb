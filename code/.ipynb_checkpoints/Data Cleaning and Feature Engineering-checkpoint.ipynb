{
 "cells": [
  {
   "cell_type": "markdown",
   "metadata": {},
   "source": [
    "# 1. Data Cleaning and Feature Engineering\n",
    "\n",
    "\n",
    "## Table of Contents\n",
    "- [1.1 Initial Data Exploration](#1.1-Initial-Data-Exploration)\n",
    "- [1.2 Individual Columns Cleaning and Data Type Changing](#1.2-Individual-Columns-Cleaning-and-Data-Type-Changing)\n",
    "- [1.3 Feature Engineering](#1.3-Feature-Engineering)\n",
    "- [1.4 Data Preparation for Modeling](#1.4-Data-Preparation-for-Modeling)"
   ]
  },
  {
   "cell_type": "code",
   "execution_count": 1,
   "metadata": {},
   "outputs": [],
   "source": [
    "#Importing libraries\n",
    "\n",
    "\n",
    "import pandas as pd\n",
    "import numpy as np\n",
    "\n",
    "import seaborn as sns\n",
    "import matplotlib.pyplot as plt\n",
    "\n",
    "%matplotlib inline"
   ]
  },
  {
   "cell_type": "code",
   "execution_count": 2,
   "metadata": {},
   "outputs": [],
   "source": [
    "#setting options to view  columns and rows in a larger dataframe\n",
    "pd.set_option('display.max_columns', 5000)\n",
    "pd.options.display.max_rows = 4000"
   ]
  },
  {
   "cell_type": "markdown",
   "metadata": {},
   "source": [
    "## 1.1 Initial Data Exploration\n"
   ]
  },
  {
   "cell_type": "code",
   "execution_count": 3,
   "metadata": {},
   "outputs": [
    {
     "data": {
      "text/plain": [
       "(2051, 81)"
      ]
     },
     "execution_count": 3,
     "metadata": {},
     "output_type": "execute_result"
    }
   ],
   "source": [
    "#Loading data and viewing its shape\n",
    "df_train = pd.read_csv('./datasets/train.csv')\n",
    "df_train.shape"
   ]
  },
  {
   "cell_type": "code",
   "execution_count": 4,
   "metadata": {},
   "outputs": [
    {
     "data": {
      "text/plain": [
       "(879, 80)"
      ]
     },
     "execution_count": 4,
     "metadata": {},
     "output_type": "execute_result"
    }
   ],
   "source": [
    "#Loading data and viewing its shape\n",
    "df_test = pd.read_csv('./datasets/test.csv')\n",
    "df_test.shape"
   ]
  },
  {
   "cell_type": "markdown",
   "metadata": {},
   "source": [
    "**_In order to rationalize data cleaning oprations and synchronize them across two data sets I am introducing a categorical column 'Cat' to both datasets with the respective values { 'train' , 'test' }. This category will be used only to split the cleant data sets at the end of Data Cleaning and Feature Engineering_** "
   ]
  },
  {
   "cell_type": "code",
   "execution_count": 5,
   "metadata": {},
   "outputs": [],
   "source": [
    "#Adding a \"cat\"_egory column\n",
    "df_train['Cat'] = 'train'\n",
    "df_test['Cat'] = 'test'"
   ]
  },
  {
   "cell_type": "code",
   "execution_count": 6,
   "metadata": {},
   "outputs": [
    {
     "name": "stderr",
     "output_type": "stream",
     "text": [
      "/Users/ilyakvyatkovskiy/anaconda3/lib/python3.7/site-packages/pandas/core/frame.py:7123: FutureWarning: Sorting because non-concatenation axis is not aligned. A future version\n",
      "of pandas will change to not sort by default.\n",
      "\n",
      "To accept the future behavior, pass 'sort=False'.\n",
      "\n",
      "To retain the current behavior and silence the warning, pass 'sort=True'.\n",
      "\n",
      "  sort=sort,\n"
     ]
    }
   ],
   "source": [
    "#Appending the test dataframe to the train dataframe in order to clean them together\n",
    "df = df_train.append(df_test)"
   ]
  },
  {
   "cell_type": "code",
   "execution_count": 7,
   "metadata": {},
   "outputs": [
    {
     "data": {
      "text/plain": [
       "Pool QC           2917\n",
       "Misc Feature      2824\n",
       "Alley             2732\n",
       "Fence             2358\n",
       "Fireplace Qu      1422\n",
       "SalePrice          879\n",
       "Lot Frontage       490\n",
       "Garage Yr Blt      159\n",
       "Garage Cond        159\n",
       "Garage Finish      159\n",
       "Garage Qual        159\n",
       "Garage Type        157\n",
       "Bsmt Exposure       83\n",
       "BsmtFin Type 2      81\n",
       "Bsmt Cond           80\n",
       "Bsmt Qual           80\n",
       "BsmtFin Type 1      80\n",
       "Mas Vnr Area        23\n",
       "Mas Vnr Type        23\n",
       "Bsmt Half Bath       2\n",
       "Bsmt Full Bath       2\n",
       "Total Bsmt SF        1\n",
       "BsmtFin SF 2         1\n",
       "BsmtFin SF 1         1\n",
       "Garage Cars          1\n",
       "Electrical           1\n",
       "Bsmt Unf SF          1\n",
       "Garage Area          1\n",
       "Foundation           0\n",
       "Full Bath            0\n",
       "dtype: int64"
      ]
     },
     "execution_count": 7,
     "metadata": {},
     "output_type": "execute_result"
    }
   ],
   "source": [
    "# Checking for missing values\n",
    "df.isnull().sum().sort_values(ascending=False).head(30)"
   ]
  },
  {
   "cell_type": "code",
   "execution_count": 8,
   "metadata": {},
   "outputs": [],
   "source": [
    "#Dropping columns making very little common sense and/or repeating/doubling information in the remaining columns\n",
    "columns_to_drop = ['Mas Vnr Type',\n",
    "                   'Mas Vnr Area', \n",
    "                   'Bsmt Exposure',\n",
    "                   'BsmtFin Type 2',\n",
    "                   'BsmtFin Type 1', \n",
    "                   'BsmtFin SF 1',\n",
    "                   'Misc Feature',\n",
    "                   'Sale Type',\n",
    "                   'Garage Qual',\n",
    "                   'Garage Cond',\n",
    "                   'Garage Type',\n",
    "                   'Garage Yr Blt',\n",
    "                   'Alley',\n",
    "                   'Fence',\n",
    "                   'Fireplace Qu',\n",
    "                   'Lot Frontage',\n",
    "                   'Pool QC',\n",
    "                   'Garage Finish',\n",
    "                   'Bsmt Unf SF',\n",
    "                   'BsmtFin SF 2',\n",
    "                   'Garage Area',\n",
    "                   'Bsmt Cond',\n",
    "                   'Bsmt Qual',\n",
    "                   'PID'\n",
    "                   ]"
   ]
  },
  {
   "cell_type": "code",
   "execution_count": 9,
   "metadata": {},
   "outputs": [
    {
     "data": {
      "image/png": "[encoded data removed]",
      "text/plain": [
       "<Figure size 720x1080 with 2 Axes>"
      ]
     },
     "metadata": {
      "needs_background": "light"
     },
     "output_type": "display_data"
    }
   ],
   "source": [
    "#Correlation heatmap to our target 'SalePrice' column\n",
    "plt.figure(figsize = (10,15))\n",
    "sns.heatmap(df.corr()[['SalePrice']].sort_values('SalePrice',ascending=False), \n",
    "            annot=True, \n",
    "            cmap = 'RdBu', \n",
    "            vmin = -1, vmax = 1);  "
   ]
  },
  {
   "cell_type": "code",
   "execution_count": 10,
   "metadata": {},
   "outputs": [],
   "source": [
    "#Dropping columns with very little correlation to our target\n",
    "columns_to_drop += ['3Ssn Porch','Mo Sold', 'Pool Area', 'Misc Val', 'Yr Sold', 'Low Qual Fin SF']\n",
    "df.drop(columns_to_drop, axis=1, inplace=True)"
   ]
  },
  {
   "cell_type": "code",
   "execution_count": 11,
   "metadata": {},
   "outputs": [
    {
     "data": {
      "text/plain": [
       "(2930, 52)"
      ]
     },
     "execution_count": 11,
     "metadata": {},
     "output_type": "execute_result"
    }
   ],
   "source": [
    "#Checking dataframe attributes\n",
    "df.shape"
   ]
  },
  {
   "cell_type": "code",
   "execution_count": 12,
   "metadata": {},
   "outputs": [
    {
     "data": {
      "text/html": [
       "<div>\n",
       "<style scoped>\n",
       "    .dataframe tbody tr th:only-of-type {\n",
       "        vertical-align: middle;\n",
       "    }\n",
       "\n",
       "    .dataframe tbody tr th {\n",
       "        vertical-align: top;\n",
       "    }\n",
       "\n",
       "    .dataframe thead th {\n",
       "        text-align: right;\n",
       "    }\n",
       "</style>\n",
       "<table border=\"1\" class=\"dataframe\">\n",
       "  <thead>\n",
       "    <tr style=\"text-align: right;\">\n",
       "      <th></th>\n",
       "      <th>1st Flr SF</th>\n",
       "      <th>2nd Flr SF</th>\n",
       "      <th>Bedroom AbvGr</th>\n",
       "      <th>Bldg Type</th>\n",
       "      <th>Bsmt Full Bath</th>\n",
       "      <th>Bsmt Half Bath</th>\n",
       "      <th>Cat</th>\n",
       "      <th>Central Air</th>\n",
       "      <th>Condition 1</th>\n",
       "      <th>Condition 2</th>\n",
       "      <th>Electrical</th>\n",
       "      <th>Enclosed Porch</th>\n",
       "      <th>Exter Cond</th>\n",
       "      <th>Exter Qual</th>\n",
       "      <th>Exterior 1st</th>\n",
       "      <th>Exterior 2nd</th>\n",
       "      <th>Fireplaces</th>\n",
       "      <th>Foundation</th>\n",
       "      <th>Full Bath</th>\n",
       "      <th>Functional</th>\n",
       "      <th>Garage Cars</th>\n",
       "      <th>Gr Liv Area</th>\n",
       "      <th>Half Bath</th>\n",
       "      <th>Heating</th>\n",
       "      <th>Heating QC</th>\n",
       "      <th>House Style</th>\n",
       "      <th>Id</th>\n",
       "      <th>Kitchen AbvGr</th>\n",
       "      <th>Kitchen Qual</th>\n",
       "      <th>Land Contour</th>\n",
       "      <th>Land Slope</th>\n",
       "      <th>Lot Area</th>\n",
       "      <th>Lot Config</th>\n",
       "      <th>Lot Shape</th>\n",
       "      <th>MS SubClass</th>\n",
       "      <th>MS Zoning</th>\n",
       "      <th>Neighborhood</th>\n",
       "      <th>Open Porch SF</th>\n",
       "      <th>Overall Cond</th>\n",
       "      <th>Overall Qual</th>\n",
       "      <th>Paved Drive</th>\n",
       "      <th>Roof Matl</th>\n",
       "      <th>Roof Style</th>\n",
       "      <th>SalePrice</th>\n",
       "      <th>Screen Porch</th>\n",
       "      <th>Street</th>\n",
       "      <th>TotRms AbvGrd</th>\n",
       "      <th>Total Bsmt SF</th>\n",
       "      <th>Utilities</th>\n",
       "      <th>Wood Deck SF</th>\n",
       "      <th>Year Built</th>\n",
       "      <th>Year Remod/Add</th>\n",
       "    </tr>\n",
       "  </thead>\n",
       "  <tbody>\n",
       "    <tr>\n",
       "      <td>0</td>\n",
       "      <td>725</td>\n",
       "      <td>754</td>\n",
       "      <td>3</td>\n",
       "      <td>1Fam</td>\n",
       "      <td>0.0</td>\n",
       "      <td>0.0</td>\n",
       "      <td>train</td>\n",
       "      <td>Y</td>\n",
       "      <td>RRAe</td>\n",
       "      <td>Norm</td>\n",
       "      <td>SBrkr</td>\n",
       "      <td>0</td>\n",
       "      <td>TA</td>\n",
       "      <td>Gd</td>\n",
       "      <td>HdBoard</td>\n",
       "      <td>Plywood</td>\n",
       "      <td>0</td>\n",
       "      <td>CBlock</td>\n",
       "      <td>2</td>\n",
       "      <td>Typ</td>\n",
       "      <td>2.0</td>\n",
       "      <td>1479</td>\n",
       "      <td>1</td>\n",
       "      <td>GasA</td>\n",
       "      <td>Ex</td>\n",
       "      <td>2Story</td>\n",
       "      <td>109</td>\n",
       "      <td>1</td>\n",
       "      <td>Gd</td>\n",
       "      <td>Lvl</td>\n",
       "      <td>Gtl</td>\n",
       "      <td>13517</td>\n",
       "      <td>CulDSac</td>\n",
       "      <td>IR1</td>\n",
       "      <td>60</td>\n",
       "      <td>RL</td>\n",
       "      <td>Sawyer</td>\n",
       "      <td>44</td>\n",
       "      <td>8</td>\n",
       "      <td>6</td>\n",
       "      <td>Y</td>\n",
       "      <td>CompShg</td>\n",
       "      <td>Gable</td>\n",
       "      <td>130500.0</td>\n",
       "      <td>0</td>\n",
       "      <td>Pave</td>\n",
       "      <td>6</td>\n",
       "      <td>725.0</td>\n",
       "      <td>AllPub</td>\n",
       "      <td>0</td>\n",
       "      <td>1976</td>\n",
       "      <td>2005</td>\n",
       "    </tr>\n",
       "    <tr>\n",
       "      <td>1</td>\n",
       "      <td>913</td>\n",
       "      <td>1209</td>\n",
       "      <td>4</td>\n",
       "      <td>1Fam</td>\n",
       "      <td>1.0</td>\n",
       "      <td>0.0</td>\n",
       "      <td>train</td>\n",
       "      <td>Y</td>\n",
       "      <td>Norm</td>\n",
       "      <td>Norm</td>\n",
       "      <td>SBrkr</td>\n",
       "      <td>0</td>\n",
       "      <td>TA</td>\n",
       "      <td>Gd</td>\n",
       "      <td>VinylSd</td>\n",
       "      <td>VinylSd</td>\n",
       "      <td>1</td>\n",
       "      <td>PConc</td>\n",
       "      <td>2</td>\n",
       "      <td>Typ</td>\n",
       "      <td>2.0</td>\n",
       "      <td>2122</td>\n",
       "      <td>1</td>\n",
       "      <td>GasA</td>\n",
       "      <td>Ex</td>\n",
       "      <td>2Story</td>\n",
       "      <td>544</td>\n",
       "      <td>1</td>\n",
       "      <td>Gd</td>\n",
       "      <td>Lvl</td>\n",
       "      <td>Gtl</td>\n",
       "      <td>11492</td>\n",
       "      <td>CulDSac</td>\n",
       "      <td>IR1</td>\n",
       "      <td>60</td>\n",
       "      <td>RL</td>\n",
       "      <td>SawyerW</td>\n",
       "      <td>74</td>\n",
       "      <td>5</td>\n",
       "      <td>7</td>\n",
       "      <td>Y</td>\n",
       "      <td>CompShg</td>\n",
       "      <td>Gable</td>\n",
       "      <td>220000.0</td>\n",
       "      <td>0</td>\n",
       "      <td>Pave</td>\n",
       "      <td>8</td>\n",
       "      <td>913.0</td>\n",
       "      <td>AllPub</td>\n",
       "      <td>0</td>\n",
       "      <td>1996</td>\n",
       "      <td>1997</td>\n",
       "    </tr>\n",
       "    <tr>\n",
       "      <td>2</td>\n",
       "      <td>1057</td>\n",
       "      <td>0</td>\n",
       "      <td>3</td>\n",
       "      <td>1Fam</td>\n",
       "      <td>1.0</td>\n",
       "      <td>0.0</td>\n",
       "      <td>train</td>\n",
       "      <td>Y</td>\n",
       "      <td>Norm</td>\n",
       "      <td>Norm</td>\n",
       "      <td>SBrkr</td>\n",
       "      <td>0</td>\n",
       "      <td>Gd</td>\n",
       "      <td>TA</td>\n",
       "      <td>VinylSd</td>\n",
       "      <td>VinylSd</td>\n",
       "      <td>0</td>\n",
       "      <td>CBlock</td>\n",
       "      <td>1</td>\n",
       "      <td>Typ</td>\n",
       "      <td>1.0</td>\n",
       "      <td>1057</td>\n",
       "      <td>0</td>\n",
       "      <td>GasA</td>\n",
       "      <td>TA</td>\n",
       "      <td>1Story</td>\n",
       "      <td>153</td>\n",
       "      <td>1</td>\n",
       "      <td>Gd</td>\n",
       "      <td>Lvl</td>\n",
       "      <td>Gtl</td>\n",
       "      <td>7922</td>\n",
       "      <td>Inside</td>\n",
       "      <td>Reg</td>\n",
       "      <td>20</td>\n",
       "      <td>RL</td>\n",
       "      <td>NAmes</td>\n",
       "      <td>52</td>\n",
       "      <td>7</td>\n",
       "      <td>5</td>\n",
       "      <td>Y</td>\n",
       "      <td>CompShg</td>\n",
       "      <td>Gable</td>\n",
       "      <td>109000.0</td>\n",
       "      <td>0</td>\n",
       "      <td>Pave</td>\n",
       "      <td>5</td>\n",
       "      <td>1057.0</td>\n",
       "      <td>AllPub</td>\n",
       "      <td>0</td>\n",
       "      <td>1953</td>\n",
       "      <td>2007</td>\n",
       "    </tr>\n",
       "    <tr>\n",
       "      <td>3</td>\n",
       "      <td>744</td>\n",
       "      <td>700</td>\n",
       "      <td>3</td>\n",
       "      <td>1Fam</td>\n",
       "      <td>0.0</td>\n",
       "      <td>0.0</td>\n",
       "      <td>train</td>\n",
       "      <td>Y</td>\n",
       "      <td>Norm</td>\n",
       "      <td>Norm</td>\n",
       "      <td>SBrkr</td>\n",
       "      <td>0</td>\n",
       "      <td>TA</td>\n",
       "      <td>TA</td>\n",
       "      <td>VinylSd</td>\n",
       "      <td>VinylSd</td>\n",
       "      <td>0</td>\n",
       "      <td>PConc</td>\n",
       "      <td>2</td>\n",
       "      <td>Typ</td>\n",
       "      <td>2.0</td>\n",
       "      <td>1444</td>\n",
       "      <td>1</td>\n",
       "      <td>GasA</td>\n",
       "      <td>Gd</td>\n",
       "      <td>2Story</td>\n",
       "      <td>318</td>\n",
       "      <td>1</td>\n",
       "      <td>TA</td>\n",
       "      <td>Lvl</td>\n",
       "      <td>Gtl</td>\n",
       "      <td>9802</td>\n",
       "      <td>Inside</td>\n",
       "      <td>Reg</td>\n",
       "      <td>60</td>\n",
       "      <td>RL</td>\n",
       "      <td>Timber</td>\n",
       "      <td>0</td>\n",
       "      <td>5</td>\n",
       "      <td>5</td>\n",
       "      <td>Y</td>\n",
       "      <td>CompShg</td>\n",
       "      <td>Gable</td>\n",
       "      <td>174000.0</td>\n",
       "      <td>0</td>\n",
       "      <td>Pave</td>\n",
       "      <td>7</td>\n",
       "      <td>384.0</td>\n",
       "      <td>AllPub</td>\n",
       "      <td>100</td>\n",
       "      <td>2006</td>\n",
       "      <td>2007</td>\n",
       "    </tr>\n",
       "    <tr>\n",
       "      <td>4</td>\n",
       "      <td>831</td>\n",
       "      <td>614</td>\n",
       "      <td>3</td>\n",
       "      <td>1Fam</td>\n",
       "      <td>0.0</td>\n",
       "      <td>0.0</td>\n",
       "      <td>train</td>\n",
       "      <td>Y</td>\n",
       "      <td>Norm</td>\n",
       "      <td>Norm</td>\n",
       "      <td>SBrkr</td>\n",
       "      <td>0</td>\n",
       "      <td>TA</td>\n",
       "      <td>TA</td>\n",
       "      <td>Wd Sdng</td>\n",
       "      <td>Plywood</td>\n",
       "      <td>0</td>\n",
       "      <td>PConc</td>\n",
       "      <td>2</td>\n",
       "      <td>Typ</td>\n",
       "      <td>2.0</td>\n",
       "      <td>1445</td>\n",
       "      <td>0</td>\n",
       "      <td>GasA</td>\n",
       "      <td>TA</td>\n",
       "      <td>1.5Fin</td>\n",
       "      <td>255</td>\n",
       "      <td>1</td>\n",
       "      <td>TA</td>\n",
       "      <td>Lvl</td>\n",
       "      <td>Gtl</td>\n",
       "      <td>14235</td>\n",
       "      <td>Inside</td>\n",
       "      <td>IR1</td>\n",
       "      <td>50</td>\n",
       "      <td>RL</td>\n",
       "      <td>SawyerW</td>\n",
       "      <td>59</td>\n",
       "      <td>8</td>\n",
       "      <td>6</td>\n",
       "      <td>N</td>\n",
       "      <td>CompShg</td>\n",
       "      <td>Gable</td>\n",
       "      <td>138500.0</td>\n",
       "      <td>0</td>\n",
       "      <td>Pave</td>\n",
       "      <td>6</td>\n",
       "      <td>676.0</td>\n",
       "      <td>AllPub</td>\n",
       "      <td>0</td>\n",
       "      <td>1900</td>\n",
       "      <td>1993</td>\n",
       "    </tr>\n",
       "  </tbody>\n",
       "</table>\n",
       "</div>"
      ],
      "text/plain": [
       "   1st Flr SF  2nd Flr SF  Bedroom AbvGr Bldg Type  Bsmt Full Bath  \\\n",
       "0         725         754              3      1Fam             0.0   \n",
       "1         913        1209              4      1Fam             1.0   \n",
       "2        1057           0              3      1Fam             1.0   \n",
       "3         744         700              3      1Fam             0.0   \n",
       "4         831         614              3      1Fam             0.0   \n",
       "\n",
       "   Bsmt Half Bath    Cat Central Air Condition 1 Condition 2 Electrical  \\\n",
       "0             0.0  train           Y        RRAe        Norm      SBrkr   \n",
       "1             0.0  train           Y        Norm        Norm      SBrkr   \n",
       "2             0.0  train           Y        Norm        Norm      SBrkr   \n",
       "3             0.0  train           Y        Norm        Norm      SBrkr   \n",
       "4             0.0  train           Y        Norm        Norm      SBrkr   \n",
       "\n",
       "   Enclosed Porch Exter Cond Exter Qual Exterior 1st Exterior 2nd  Fireplaces  \\\n",
       "0               0         TA         Gd      HdBoard      Plywood           0   \n",
       "1               0         TA         Gd      VinylSd      VinylSd           1   \n",
       "2               0         Gd         TA      VinylSd      VinylSd           0   \n",
       "3               0         TA         TA      VinylSd      VinylSd           0   \n",
       "4               0         TA         TA      Wd Sdng      Plywood           0   \n",
       "\n",
       "  Foundation  Full Bath Functional  Garage Cars  Gr Liv Area  Half Bath  \\\n",
       "0     CBlock          2        Typ          2.0         1479          1   \n",
       "1      PConc          2        Typ          2.0         2122          1   \n",
       "2     CBlock          1        Typ          1.0         1057          0   \n",
       "3      PConc          2        Typ          2.0         1444          1   \n",
       "4      PConc          2        Typ          2.0         1445          0   \n",
       "\n",
       "  Heating Heating QC House Style   Id  Kitchen AbvGr Kitchen Qual  \\\n",
       "0    GasA         Ex      2Story  109              1           Gd   \n",
       "1    GasA         Ex      2Story  544              1           Gd   \n",
       "2    GasA         TA      1Story  153              1           Gd   \n",
       "3    GasA         Gd      2Story  318              1           TA   \n",
       "4    GasA         TA      1.5Fin  255              1           TA   \n",
       "\n",
       "  Land Contour Land Slope  Lot Area Lot Config Lot Shape  MS SubClass  \\\n",
       "0          Lvl        Gtl     13517    CulDSac       IR1           60   \n",
       "1          Lvl        Gtl     11492    CulDSac       IR1           60   \n",
       "2          Lvl        Gtl      7922     Inside       Reg           20   \n",
       "3          Lvl        Gtl      9802     Inside       Reg           60   \n",
       "4          Lvl        Gtl     14235     Inside       IR1           50   \n",
       "\n",
       "  MS Zoning Neighborhood  Open Porch SF  Overall Cond  Overall Qual  \\\n",
       "0        RL       Sawyer             44             8             6   \n",
       "1        RL      SawyerW             74             5             7   \n",
       "2        RL        NAmes             52             7             5   \n",
       "3        RL       Timber              0             5             5   \n",
       "4        RL      SawyerW             59             8             6   \n",
       "\n",
       "  Paved Drive Roof Matl Roof Style  SalePrice  Screen Porch Street  \\\n",
       "0           Y   CompShg      Gable   130500.0             0   Pave   \n",
       "1           Y   CompShg      Gable   220000.0             0   Pave   \n",
       "2           Y   CompShg      Gable   109000.0             0   Pave   \n",
       "3           Y   CompShg      Gable   174000.0             0   Pave   \n",
       "4           N   CompShg      Gable   138500.0             0   Pave   \n",
       "\n",
       "   TotRms AbvGrd  Total Bsmt SF Utilities  Wood Deck SF  Year Built  \\\n",
       "0              6          725.0    AllPub             0        1976   \n",
       "1              8          913.0    AllPub             0        1996   \n",
       "2              5         1057.0    AllPub             0        1953   \n",
       "3              7          384.0    AllPub           100        2006   \n",
       "4              6          676.0    AllPub             0        1900   \n",
       "\n",
       "   Year Remod/Add  \n",
       "0            2005  \n",
       "1            1997  \n",
       "2            2007  \n",
       "3            2007  \n",
       "4            1993  "
      ]
     },
     "execution_count": 12,
     "metadata": {},
     "output_type": "execute_result"
    }
   ],
   "source": [
    "df.head()"
   ]
  },
  {
   "cell_type": "code",
   "execution_count": 13,
   "metadata": {},
   "outputs": [
    {
     "data": {
      "text/plain": [
       "1st Flr SF          int64\n",
       "2nd Flr SF          int64\n",
       "Bedroom AbvGr       int64\n",
       "Bldg Type          object\n",
       "Bsmt Full Bath    float64\n",
       "Bsmt Half Bath    float64\n",
       "Cat                object\n",
       "Central Air        object\n",
       "Condition 1        object\n",
       "Condition 2        object\n",
       "Electrical         object\n",
       "Enclosed Porch      int64\n",
       "Exter Cond         object\n",
       "Exter Qual         object\n",
       "Exterior 1st       object\n",
       "Exterior 2nd       object\n",
       "Fireplaces          int64\n",
       "Foundation         object\n",
       "Full Bath           int64\n",
       "Functional         object\n",
       "Garage Cars       float64\n",
       "Gr Liv Area         int64\n",
       "Half Bath           int64\n",
       "Heating            object\n",
       "Heating QC         object\n",
       "House Style        object\n",
       "Id                  int64\n",
       "Kitchen AbvGr       int64\n",
       "Kitchen Qual       object\n",
       "Land Contour       object\n",
       "Land Slope         object\n",
       "Lot Area            int64\n",
       "Lot Config         object\n",
       "Lot Shape          object\n",
       "MS SubClass         int64\n",
       "MS Zoning          object\n",
       "Neighborhood       object\n",
       "Open Porch SF       int64\n",
       "Overall Cond        int64\n",
       "Overall Qual        int64\n",
       "Paved Drive        object\n",
       "Roof Matl          object\n",
       "Roof Style         object\n",
       "SalePrice         float64\n",
       "Screen Porch        int64\n",
       "Street             object\n",
       "TotRms AbvGrd       int64\n",
       "Total Bsmt SF     float64\n",
       "Utilities          object\n",
       "Wood Deck SF        int64\n",
       "Year Built          int64\n",
       "Year Remod/Add      int64\n",
       "dtype: object"
      ]
     },
     "execution_count": 13,
     "metadata": {},
     "output_type": "execute_result"
    }
   ],
   "source": [
    "#datatypes\n",
    "df.dtypes"
   ]
  },
  {
   "cell_type": "markdown",
   "metadata": {},
   "source": [
    "## 1.2 Individual Columns Cleaning and Data Type Changing"
   ]
  },
  {
   "cell_type": "code",
   "execution_count": 14,
   "metadata": {},
   "outputs": [
    {
     "data": {
      "text/plain": [
       "RL         2273\n",
       "RM          462\n",
       "FV          139\n",
       "RH           27\n",
       "C (all)      25\n",
       "A (agr)       2\n",
       "I (all)       2\n",
       "Name: MS Zoning, dtype: int64"
      ]
     },
     "execution_count": 14,
     "metadata": {},
     "output_type": "execute_result"
    }
   ],
   "source": [
    "# Column \"MS Zoning\" value counts\n",
    "df['MS Zoning'].value_counts()"
   ]
  },
  {
   "cell_type": "code",
   "execution_count": 15,
   "metadata": {},
   "outputs": [],
   "source": [
    "#As values related to residential properties are coded with two letters\n",
    "df['MS Zoning'] = df['MS Zoning'].map(lambda x: 0 if len(x) == 2 else 1)"
   ]
  },
  {
   "cell_type": "code",
   "execution_count": 16,
   "metadata": {},
   "outputs": [],
   "source": [
    "#Column 'MS SubClass' contains numerical values coded as strings\n",
    "#Transforming 'MS Subclass' values into integer format\n",
    "df['MS SubClass'] = df['MS SubClass'].map(lambda x : int(x))"
   ]
  },
  {
   "cell_type": "code",
   "execution_count": 17,
   "metadata": {},
   "outputs": [],
   "source": [
    "#Transforming \"Utilities\" column into a boolean format where '0' equals to all utilities available and '1' for all\n",
    "#other cases (at least 1 utility is missing or our of modern shape, as this influences the price)\n",
    "df['Utilities'] = np.where(df['Utilities'] == 'AllPub', 0, 1)"
   ]
  },
  {
   "cell_type": "code",
   "execution_count": 18,
   "metadata": {},
   "outputs": [],
   "source": [
    "#Getting a numeric columns of (0,1) out of a (Y,N) column 'Central Air'\n",
    "df['Central Air'] = np.where(df['Central Air'] == 'Y', 0, 1)"
   ]
  },
  {
   "cell_type": "code",
   "execution_count": 19,
   "metadata": {},
   "outputs": [],
   "source": [
    "#Getting a numeric columns of (0,1) out of a (Y,N) column for column 'Condition 1'. Nature of contents in this column\n",
    "#is either strongly positively influencing the price, or negatively - where the property is located \n",
    "#close to any railway\n",
    "df['Condition 1'] = df['Condition 1'].map(lambda x: 0 if x.startswith('RR') else 1)"
   ]
  },
  {
   "cell_type": "code",
   "execution_count": 20,
   "metadata": {},
   "outputs": [],
   "source": [
    "#Getting a numeric columns of (0,1) out of a (Y,N) column in the same way as for 'Condition 2'\n",
    "df['Condition 2'] = df['Condition 2'].map(lambda x: 0 if x.startswith('RR') else 1)"
   ]
  },
  {
   "cell_type": "code",
   "execution_count": 21,
   "metadata": {},
   "outputs": [
    {
     "data": {
      "text/plain": [
       "SBrkr    2682\n",
       "FuseA     188\n",
       "FuseF      50\n",
       "FuseP       8\n",
       "Mix         1\n",
       "Name: Electrical, dtype: int64"
      ]
     },
     "execution_count": 21,
     "metadata": {},
     "output_type": "execute_result"
    }
   ],
   "source": [
    "#Checking values for \"Electrical\" column\n",
    "df['Electrical'].value_counts()"
   ]
  },
  {
   "cell_type": "code",
   "execution_count": 22,
   "metadata": {},
   "outputs": [],
   "source": [
    "#Getting a numeric columns of (0,1) out of a (Y,N) column, where '0' indicates a prevailling most modern type 'SBrkr'\n",
    "df['Electrical'] = np.where(df['Electrical'] == 'SBrkr', 0, 1)"
   ]
  },
  {
   "cell_type": "code",
   "execution_count": 23,
   "metadata": {},
   "outputs": [],
   "source": [
    "#Getting a numeric columns of (0,1) out of a column \n",
    "#where '0' corresponds with 'Poor' or 'Fair', and '1' with the conditions above\n",
    "df['Exter Cond'] = df['Exter Cond'].map(lambda x: 0 if x in ['Po','Fa'] else 1)"
   ]
  },
  {
   "cell_type": "code",
   "execution_count": 24,
   "metadata": {},
   "outputs": [],
   "source": [
    "#Getting a numeric columns of (0,1) out of a column \n",
    "#where '0' corresponds with 'Poor' or 'Fair', and '1' with the conditions above\n",
    "df['Exter Qual'] = df['Exter Qual'].map(lambda x: 0 if x in ['Po','Fa'] else 1)"
   ]
  },
  {
   "cell_type": "code",
   "execution_count": 25,
   "metadata": {},
   "outputs": [
    {
     "data": {
      "text/plain": [
       "VinylSd    1026\n",
       "MetalSd     450\n",
       "HdBoard     442\n",
       "Wd Sdng     420\n",
       "Plywood     221\n",
       "CemntBd     126\n",
       "BrkFace      88\n",
       "WdShing      56\n",
       "AsbShng      44\n",
       "Stucco       43\n",
       "BrkComm       6\n",
       "CBlock        2\n",
       "Stone         2\n",
       "AsphShn       2\n",
       "ImStucc       1\n",
       "PreCast       1\n",
       "Name: Exterior 1st, dtype: int64"
      ]
     },
     "execution_count": 25,
     "metadata": {},
     "output_type": "execute_result"
    }
   ],
   "source": [
    "#Values for exterior materials column 1\n",
    "df['Exterior 1st'].value_counts()"
   ]
  },
  {
   "cell_type": "code",
   "execution_count": 26,
   "metadata": {},
   "outputs": [],
   "source": [
    "#Getting a '0' for the column if the material contains asbestos, otherwise '1'\n",
    "df['Exterior 1st'] = np.where(df['Exterior 1st'] == 'AsbShng', 0, 1)"
   ]
  },
  {
   "cell_type": "code",
   "execution_count": 27,
   "metadata": {},
   "outputs": [
    {
     "data": {
      "text/plain": [
       "VinylSd    1015\n",
       "MetalSd     447\n",
       "HdBoard     406\n",
       "Wd Sdng     397\n",
       "Plywood     274\n",
       "CmentBd     126\n",
       "Wd Shng      81\n",
       "Stucco       47\n",
       "BrkFace      47\n",
       "AsbShng      38\n",
       "Brk Cmn      22\n",
       "ImStucc      15\n",
       "Stone         6\n",
       "AsphShn       4\n",
       "CBlock        3\n",
       "Other         1\n",
       "PreCast       1\n",
       "Name: Exterior 2nd, dtype: int64"
      ]
     },
     "execution_count": 27,
     "metadata": {},
     "output_type": "execute_result"
    }
   ],
   "source": [
    "#Values for exterior materials column 2\n",
    "df['Exterior 2nd'].value_counts()"
   ]
  },
  {
   "cell_type": "code",
   "execution_count": 28,
   "metadata": {},
   "outputs": [],
   "source": [
    "#Getting a '0' for the column if the material contains asbestos, otherwise '1'\n",
    "df['Exterior 2nd'] = np.where(df['Exterior 2nd'] == 'AsbShng', 0, 1)"
   ]
  },
  {
   "cell_type": "code",
   "execution_count": 29,
   "metadata": {},
   "outputs": [
    {
     "data": {
      "text/plain": [
       "Typ     2728\n",
       "Min2      70\n",
       "Min1      65\n",
       "Mod       35\n",
       "Maj1      19\n",
       "Maj2       9\n",
       "Sev        2\n",
       "Sal        2\n",
       "Name: Functional, dtype: int64"
      ]
     },
     "execution_count": 29,
     "metadata": {},
     "output_type": "execute_result"
    }
   ],
   "source": [
    "# 'Functional' column values\n",
    "df['Functional'].value_counts()"
   ]
  },
  {
   "cell_type": "code",
   "execution_count": 30,
   "metadata": {},
   "outputs": [],
   "source": [
    "#Getting a '0' for the column if the functionality is typical, otherwise '1'\n",
    "df['Functional'] = np.where(df['Functional'] == 'Typ', 0, 1)"
   ]
  },
  {
   "cell_type": "code",
   "execution_count": 31,
   "metadata": {},
   "outputs": [],
   "source": [
    "#Getting a '0' for the column if the heating quality is \"Fair\" or \"Poor\", otherwise '1'\n",
    "df['Heating QC'] = df['Heating QC'].map(lambda x: 0 if x in ['Po','Fa'] else 1)"
   ]
  },
  {
   "cell_type": "code",
   "execution_count": 32,
   "metadata": {},
   "outputs": [
    {
     "data": {
      "text/plain": [
       "1Story    1481\n",
       "2Story     873\n",
       "1.5Fin     314\n",
       "SLvl       128\n",
       "SFoyer      83\n",
       "2.5Unf      24\n",
       "1.5Unf      19\n",
       "2.5Fin       8\n",
       "Name: House Style, dtype: int64"
      ]
     },
     "execution_count": 32,
     "metadata": {},
     "output_type": "execute_result"
    }
   ],
   "source": [
    "#'House Style' column values\n",
    "df['House Style'].value_counts()\n",
    "#Leaving it as is"
   ]
  },
  {
   "cell_type": "code",
   "execution_count": 33,
   "metadata": {},
   "outputs": [],
   "source": [
    "#Getting a '0' for the column if the kitchen quality is \"Fair\" or \"Poor\", otherwise '1'\n",
    "df['Kitchen Qual'] = df['Kitchen Qual'].map(lambda x: 0 if x in ['Po','Fa'] else 1)"
   ]
  },
  {
   "cell_type": "code",
   "execution_count": 34,
   "metadata": {},
   "outputs": [],
   "source": [
    "#Getting a '0' for the column if the land slope is \"horizontal\", otherwise '1'\n",
    "df['Land Slope'] = np.where(df['Land Slope'] == 'Gtl', 0, 1)"
   ]
  },
  {
   "cell_type": "code",
   "execution_count": 35,
   "metadata": {},
   "outputs": [],
   "source": [
    "#Getting a '0' for the column if the lot shape is \"Regular\" or \"slightly irregular\", otherwise '1'\n",
    "df['Lot Shape'] = df['Lot Shape'].map(lambda x: 0 if x in ['Reg','IR1'] else 1)"
   ]
  },
  {
   "cell_type": "code",
   "execution_count": 36,
   "metadata": {},
   "outputs": [],
   "source": [
    "#Getting a '0' for the column if the drive is paved, otherwise '1'\n",
    "df['Paved Drive'] = np.where(df['Paved Drive'] == 'Y', 0, 1)"
   ]
  },
  {
   "cell_type": "code",
   "execution_count": 37,
   "metadata": {},
   "outputs": [],
   "source": [
    "#Getting a '0' for the column if the street is paved, otherwise '1'\n",
    "df['Street'] = np.where(df['Street'] == 'Pave', 0, 1)"
   ]
  },
  {
   "cell_type": "code",
   "execution_count": 38,
   "metadata": {},
   "outputs": [],
   "source": [
    "#Getting a '0' for the column if the roof style is flat, otherwise '1'\n",
    "df['Roof Style'] = np.where(df['Roof Style'] == 'Flat', 0, 1)"
   ]
  },
  {
   "cell_type": "code",
   "execution_count": 39,
   "metadata": {},
   "outputs": [
    {
     "data": {
      "text/plain": [
       "CompShg    2887\n",
       "Tar&Grv      23\n",
       "WdShake       9\n",
       "WdShngl       7\n",
       "Roll          1\n",
       "ClyTile       1\n",
       "Membran       1\n",
       "Metal         1\n",
       "Name: Roof Matl, dtype: int64"
      ]
     },
     "execution_count": 39,
     "metadata": {},
     "output_type": "execute_result"
    }
   ],
   "source": [
    "#'Roof Materials'  vlaues\n",
    "df['Roof Matl'].value_counts()"
   ]
  },
  {
   "cell_type": "code",
   "execution_count": 40,
   "metadata": {},
   "outputs": [],
   "source": [
    "#Getting a '0' for the column if the roof material is Composite Shingles, otherwise '1'\n",
    "df['Roof Matl'] = np.where(df['Roof Matl'] == 'CompShg', 0, 1)"
   ]
  },
  {
   "cell_type": "code",
   "execution_count": 41,
   "metadata": {},
   "outputs": [
    {
     "data": {
      "text/plain": [
       "GasA     2885\n",
       "GasW       27\n",
       "Grav        9\n",
       "Wall        6\n",
       "OthW        2\n",
       "Floor       1\n",
       "Name: Heating, dtype: int64"
      ]
     },
     "execution_count": 41,
     "metadata": {},
     "output_type": "execute_result"
    }
   ],
   "source": [
    "#\"Heating\" values\n",
    "df['Heating'].value_counts()"
   ]
  },
  {
   "cell_type": "code",
   "execution_count": 42,
   "metadata": {},
   "outputs": [],
   "source": [
    "#Getting a '0' for the column if the heating is 'GasA', otherwise '1'\n",
    "df['Heating'] = np.where(df['Heating'] == 'GasA', 0, 1)"
   ]
  },
  {
   "cell_type": "code",
   "execution_count": 43,
   "metadata": {},
   "outputs": [
    {
     "data": {
      "text/plain": [
       "1Fam      2425\n",
       "TwnhsE     233\n",
       "Duplex     109\n",
       "Twnhs      101\n",
       "2fmCon      62\n",
       "Name: Bldg Type, dtype: int64"
      ]
     },
     "execution_count": 43,
     "metadata": {},
     "output_type": "execute_result"
    }
   ],
   "source": [
    "#'Bldg Type' values\n",
    "df['Bldg Type'].value_counts()"
   ]
  },
  {
   "cell_type": "code",
   "execution_count": 44,
   "metadata": {},
   "outputs": [],
   "source": [
    "#Getting a '0' for the column if the house is most frequent - for 1 family, otherwise '1'\n",
    "df['Bldg Type'] = np.where(df['Bldg Type'] == '1Fam', 0, 1)"
   ]
  },
  {
   "cell_type": "markdown",
   "metadata": {},
   "source": [
    "## 1.3 Feature Engineering"
   ]
  },
  {
   "cell_type": "code",
   "execution_count": 45,
   "metadata": {},
   "outputs": [
    {
     "data": {
      "text/html": [
       "<div>\n",
       "<style scoped>\n",
       "    .dataframe tbody tr th:only-of-type {\n",
       "        vertical-align: middle;\n",
       "    }\n",
       "\n",
       "    .dataframe tbody tr th {\n",
       "        vertical-align: top;\n",
       "    }\n",
       "\n",
       "    .dataframe thead th {\n",
       "        text-align: right;\n",
       "    }\n",
       "</style>\n",
       "<table border=\"1\" class=\"dataframe\">\n",
       "  <thead>\n",
       "    <tr style=\"text-align: right;\">\n",
       "      <th></th>\n",
       "      <th>1st Flr SF</th>\n",
       "      <th>2nd Flr SF</th>\n",
       "      <th>Bedroom AbvGr</th>\n",
       "      <th>Bldg Type</th>\n",
       "      <th>Bsmt Full Bath</th>\n",
       "      <th>Bsmt Half Bath</th>\n",
       "      <th>Central Air</th>\n",
       "      <th>Condition 1</th>\n",
       "      <th>Condition 2</th>\n",
       "      <th>Electrical</th>\n",
       "      <th>Enclosed Porch</th>\n",
       "      <th>Exter Cond</th>\n",
       "      <th>Exter Qual</th>\n",
       "      <th>Exterior 1st</th>\n",
       "      <th>Exterior 2nd</th>\n",
       "      <th>Fireplaces</th>\n",
       "      <th>Full Bath</th>\n",
       "      <th>Functional</th>\n",
       "      <th>Garage Cars</th>\n",
       "      <th>Gr Liv Area</th>\n",
       "      <th>Half Bath</th>\n",
       "      <th>Heating</th>\n",
       "      <th>Heating QC</th>\n",
       "      <th>Id</th>\n",
       "      <th>Kitchen AbvGr</th>\n",
       "      <th>Kitchen Qual</th>\n",
       "      <th>Land Slope</th>\n",
       "      <th>Lot Area</th>\n",
       "      <th>Lot Shape</th>\n",
       "      <th>MS SubClass</th>\n",
       "      <th>MS Zoning</th>\n",
       "      <th>Open Porch SF</th>\n",
       "      <th>Overall Cond</th>\n",
       "      <th>Overall Qual</th>\n",
       "      <th>Paved Drive</th>\n",
       "      <th>Roof Matl</th>\n",
       "      <th>Roof Style</th>\n",
       "      <th>SalePrice</th>\n",
       "      <th>Screen Porch</th>\n",
       "      <th>Street</th>\n",
       "      <th>TotRms AbvGrd</th>\n",
       "      <th>Total Bsmt SF</th>\n",
       "      <th>Utilities</th>\n",
       "      <th>Wood Deck SF</th>\n",
       "      <th>Year Built</th>\n",
       "      <th>Year Remod/Add</th>\n",
       "    </tr>\n",
       "  </thead>\n",
       "  <tbody>\n",
       "    <tr>\n",
       "      <td>0</td>\n",
       "      <td>725</td>\n",
       "      <td>754</td>\n",
       "      <td>3</td>\n",
       "      <td>0</td>\n",
       "      <td>0.0</td>\n",
       "      <td>0.0</td>\n",
       "      <td>0</td>\n",
       "      <td>0</td>\n",
       "      <td>1</td>\n",
       "      <td>0</td>\n",
       "      <td>0</td>\n",
       "      <td>1</td>\n",
       "      <td>1</td>\n",
       "      <td>1</td>\n",
       "      <td>1</td>\n",
       "      <td>0</td>\n",
       "      <td>2</td>\n",
       "      <td>0</td>\n",
       "      <td>2.0</td>\n",
       "      <td>1479</td>\n",
       "      <td>1</td>\n",
       "      <td>0</td>\n",
       "      <td>1</td>\n",
       "      <td>109</td>\n",
       "      <td>1</td>\n",
       "      <td>1</td>\n",
       "      <td>0</td>\n",
       "      <td>13517</td>\n",
       "      <td>0</td>\n",
       "      <td>60</td>\n",
       "      <td>0</td>\n",
       "      <td>44</td>\n",
       "      <td>8</td>\n",
       "      <td>6</td>\n",
       "      <td>0</td>\n",
       "      <td>0</td>\n",
       "      <td>1</td>\n",
       "      <td>130500.0</td>\n",
       "      <td>0</td>\n",
       "      <td>0</td>\n",
       "      <td>6</td>\n",
       "      <td>725.0</td>\n",
       "      <td>0</td>\n",
       "      <td>0</td>\n",
       "      <td>1976</td>\n",
       "      <td>2005</td>\n",
       "    </tr>\n",
       "    <tr>\n",
       "      <td>1</td>\n",
       "      <td>913</td>\n",
       "      <td>1209</td>\n",
       "      <td>4</td>\n",
       "      <td>0</td>\n",
       "      <td>1.0</td>\n",
       "      <td>0.0</td>\n",
       "      <td>0</td>\n",
       "      <td>1</td>\n",
       "      <td>1</td>\n",
       "      <td>0</td>\n",
       "      <td>0</td>\n",
       "      <td>1</td>\n",
       "      <td>1</td>\n",
       "      <td>1</td>\n",
       "      <td>1</td>\n",
       "      <td>1</td>\n",
       "      <td>2</td>\n",
       "      <td>0</td>\n",
       "      <td>2.0</td>\n",
       "      <td>2122</td>\n",
       "      <td>1</td>\n",
       "      <td>0</td>\n",
       "      <td>1</td>\n",
       "      <td>544</td>\n",
       "      <td>1</td>\n",
       "      <td>1</td>\n",
       "      <td>0</td>\n",
       "      <td>11492</td>\n",
       "      <td>0</td>\n",
       "      <td>60</td>\n",
       "      <td>0</td>\n",
       "      <td>74</td>\n",
       "      <td>5</td>\n",
       "      <td>7</td>\n",
       "      <td>0</td>\n",
       "      <td>0</td>\n",
       "      <td>1</td>\n",
       "      <td>220000.0</td>\n",
       "      <td>0</td>\n",
       "      <td>0</td>\n",
       "      <td>8</td>\n",
       "      <td>913.0</td>\n",
       "      <td>0</td>\n",
       "      <td>0</td>\n",
       "      <td>1996</td>\n",
       "      <td>1997</td>\n",
       "    </tr>\n",
       "    <tr>\n",
       "      <td>2</td>\n",
       "      <td>1057</td>\n",
       "      <td>0</td>\n",
       "      <td>3</td>\n",
       "      <td>0</td>\n",
       "      <td>1.0</td>\n",
       "      <td>0.0</td>\n",
       "      <td>0</td>\n",
       "      <td>1</td>\n",
       "      <td>1</td>\n",
       "      <td>0</td>\n",
       "      <td>0</td>\n",
       "      <td>1</td>\n",
       "      <td>1</td>\n",
       "      <td>1</td>\n",
       "      <td>1</td>\n",
       "      <td>0</td>\n",
       "      <td>1</td>\n",
       "      <td>0</td>\n",
       "      <td>1.0</td>\n",
       "      <td>1057</td>\n",
       "      <td>0</td>\n",
       "      <td>0</td>\n",
       "      <td>1</td>\n",
       "      <td>153</td>\n",
       "      <td>1</td>\n",
       "      <td>1</td>\n",
       "      <td>0</td>\n",
       "      <td>7922</td>\n",
       "      <td>0</td>\n",
       "      <td>20</td>\n",
       "      <td>0</td>\n",
       "      <td>52</td>\n",
       "      <td>7</td>\n",
       "      <td>5</td>\n",
       "      <td>0</td>\n",
       "      <td>0</td>\n",
       "      <td>1</td>\n",
       "      <td>109000.0</td>\n",
       "      <td>0</td>\n",
       "      <td>0</td>\n",
       "      <td>5</td>\n",
       "      <td>1057.0</td>\n",
       "      <td>0</td>\n",
       "      <td>0</td>\n",
       "      <td>1953</td>\n",
       "      <td>2007</td>\n",
       "    </tr>\n",
       "    <tr>\n",
       "      <td>3</td>\n",
       "      <td>744</td>\n",
       "      <td>700</td>\n",
       "      <td>3</td>\n",
       "      <td>0</td>\n",
       "      <td>0.0</td>\n",
       "      <td>0.0</td>\n",
       "      <td>0</td>\n",
       "      <td>1</td>\n",
       "      <td>1</td>\n",
       "      <td>0</td>\n",
       "      <td>0</td>\n",
       "      <td>1</td>\n",
       "      <td>1</td>\n",
       "      <td>1</td>\n",
       "      <td>1</td>\n",
       "      <td>0</td>\n",
       "      <td>2</td>\n",
       "      <td>0</td>\n",
       "      <td>2.0</td>\n",
       "      <td>1444</td>\n",
       "      <td>1</td>\n",
       "      <td>0</td>\n",
       "      <td>1</td>\n",
       "      <td>318</td>\n",
       "      <td>1</td>\n",
       "      <td>1</td>\n",
       "      <td>0</td>\n",
       "      <td>9802</td>\n",
       "      <td>0</td>\n",
       "      <td>60</td>\n",
       "      <td>0</td>\n",
       "      <td>0</td>\n",
       "      <td>5</td>\n",
       "      <td>5</td>\n",
       "      <td>0</td>\n",
       "      <td>0</td>\n",
       "      <td>1</td>\n",
       "      <td>174000.0</td>\n",
       "      <td>0</td>\n",
       "      <td>0</td>\n",
       "      <td>7</td>\n",
       "      <td>384.0</td>\n",
       "      <td>0</td>\n",
       "      <td>100</td>\n",
       "      <td>2006</td>\n",
       "      <td>2007</td>\n",
       "    </tr>\n",
       "    <tr>\n",
       "      <td>4</td>\n",
       "      <td>831</td>\n",
       "      <td>614</td>\n",
       "      <td>3</td>\n",
       "      <td>0</td>\n",
       "      <td>0.0</td>\n",
       "      <td>0.0</td>\n",
       "      <td>0</td>\n",
       "      <td>1</td>\n",
       "      <td>1</td>\n",
       "      <td>0</td>\n",
       "      <td>0</td>\n",
       "      <td>1</td>\n",
       "      <td>1</td>\n",
       "      <td>1</td>\n",
       "      <td>1</td>\n",
       "      <td>0</td>\n",
       "      <td>2</td>\n",
       "      <td>0</td>\n",
       "      <td>2.0</td>\n",
       "      <td>1445</td>\n",
       "      <td>0</td>\n",
       "      <td>0</td>\n",
       "      <td>1</td>\n",
       "      <td>255</td>\n",
       "      <td>1</td>\n",
       "      <td>1</td>\n",
       "      <td>0</td>\n",
       "      <td>14235</td>\n",
       "      <td>0</td>\n",
       "      <td>50</td>\n",
       "      <td>0</td>\n",
       "      <td>59</td>\n",
       "      <td>8</td>\n",
       "      <td>6</td>\n",
       "      <td>1</td>\n",
       "      <td>0</td>\n",
       "      <td>1</td>\n",
       "      <td>138500.0</td>\n",
       "      <td>0</td>\n",
       "      <td>0</td>\n",
       "      <td>6</td>\n",
       "      <td>676.0</td>\n",
       "      <td>0</td>\n",
       "      <td>0</td>\n",
       "      <td>1900</td>\n",
       "      <td>1993</td>\n",
       "    </tr>\n",
       "  </tbody>\n",
       "</table>\n",
       "</div>"
      ],
      "text/plain": [
       "   1st Flr SF  2nd Flr SF  Bedroom AbvGr  Bldg Type  Bsmt Full Bath  \\\n",
       "0         725         754              3          0             0.0   \n",
       "1         913        1209              4          0             1.0   \n",
       "2        1057           0              3          0             1.0   \n",
       "3         744         700              3          0             0.0   \n",
       "4         831         614              3          0             0.0   \n",
       "\n",
       "   Bsmt Half Bath  Central Air  Condition 1  Condition 2  Electrical  \\\n",
       "0             0.0            0            0            1           0   \n",
       "1             0.0            0            1            1           0   \n",
       "2             0.0            0            1            1           0   \n",
       "3             0.0            0            1            1           0   \n",
       "4             0.0            0            1            1           0   \n",
       "\n",
       "   Enclosed Porch  Exter Cond  Exter Qual  Exterior 1st  Exterior 2nd  \\\n",
       "0               0           1           1             1             1   \n",
       "1               0           1           1             1             1   \n",
       "2               0           1           1             1             1   \n",
       "3               0           1           1             1             1   \n",
       "4               0           1           1             1             1   \n",
       "\n",
       "   Fireplaces  Full Bath  Functional  Garage Cars  Gr Liv Area  Half Bath  \\\n",
       "0           0          2           0          2.0         1479          1   \n",
       "1           1          2           0          2.0         2122          1   \n",
       "2           0          1           0          1.0         1057          0   \n",
       "3           0          2           0          2.0         1444          1   \n",
       "4           0          2           0          2.0         1445          0   \n",
       "\n",
       "   Heating  Heating QC   Id  Kitchen AbvGr  Kitchen Qual  Land Slope  \\\n",
       "0        0           1  109              1             1           0   \n",
       "1        0           1  544              1             1           0   \n",
       "2        0           1  153              1             1           0   \n",
       "3        0           1  318              1             1           0   \n",
       "4        0           1  255              1             1           0   \n",
       "\n",
       "   Lot Area  Lot Shape  MS SubClass  MS Zoning  Open Porch SF  Overall Cond  \\\n",
       "0     13517          0           60          0             44             8   \n",
       "1     11492          0           60          0             74             5   \n",
       "2      7922          0           20          0             52             7   \n",
       "3      9802          0           60          0              0             5   \n",
       "4     14235          0           50          0             59             8   \n",
       "\n",
       "   Overall Qual  Paved Drive  Roof Matl  Roof Style  SalePrice  Screen Porch  \\\n",
       "0             6            0          0           1   130500.0             0   \n",
       "1             7            0          0           1   220000.0             0   \n",
       "2             5            0          0           1   109000.0             0   \n",
       "3             5            0          0           1   174000.0             0   \n",
       "4             6            1          0           1   138500.0             0   \n",
       "\n",
       "   Street  TotRms AbvGrd  Total Bsmt SF  Utilities  Wood Deck SF  Year Built  \\\n",
       "0       0              6          725.0          0             0        1976   \n",
       "1       0              8          913.0          0             0        1996   \n",
       "2       0              5         1057.0          0             0        1953   \n",
       "3       0              7          384.0          0           100        2006   \n",
       "4       0              6          676.0          0             0        1900   \n",
       "\n",
       "   Year Remod/Add  \n",
       "0            2005  \n",
       "1            1997  \n",
       "2            2007  \n",
       "3            2007  \n",
       "4            1993  "
      ]
     },
     "execution_count": 45,
     "metadata": {},
     "output_type": "execute_result"
    }
   ],
   "source": [
    "#Getting all numeric data\n",
    "df._get_numeric_data().head()"
   ]
  },
  {
   "cell_type": "code",
   "execution_count": 46,
   "metadata": {},
   "outputs": [],
   "source": [
    "#Getting a new column 'baths' out of all bathrooms in a house\n",
    "df['baths'] = df['Bsmt Full Bath'] + df['Bsmt Half Bath'] + df['Full Bath'] + df['Half Bath']"
   ]
  },
  {
   "cell_type": "code",
   "execution_count": 47,
   "metadata": {},
   "outputs": [],
   "source": [
    "#Getting a new engineered column representing a product of 'Overall Cond' and 'Overall Qual'\n",
    "df['overall'] = df['Overall Cond']*df['Overall Qual']"
   ]
  },
  {
   "cell_type": "code",
   "execution_count": 48,
   "metadata": {},
   "outputs": [],
   "source": [
    "#Getting a new column 'outside area' out of all outside areas around a house\n",
    "df['outside area'] = df['Screen Porch'] + df['Open Porch SF'] + df['Wood Deck SF']"
   ]
  },
  {
   "cell_type": "code",
   "execution_count": 49,
   "metadata": {},
   "outputs": [],
   "source": [
    "#Engineering a new \"Condition\" column indicating as '0' a proximity to at least 1 railway (as each of Condition 1,2\n",
    "#columns indicates as a 0 proximity to one of the railways around the city and negatively impacts the price)\n",
    "df['Condition'] = df['Condition 1'] * df['Condition 2']"
   ]
  },
  {
   "cell_type": "code",
   "execution_count": 50,
   "metadata": {},
   "outputs": [],
   "source": [
    "#Engineering a new \"exter quality\" column \n",
    "#indicating as '0' as one of the exterior conditions being below acceptable\n",
    "df['exter_net_quality'] = df['Exter Cond'] * df['Exter Qual']"
   ]
  },
  {
   "cell_type": "code",
   "execution_count": 51,
   "metadata": {},
   "outputs": [],
   "source": [
    "#Engineering a new \"exterior cover\" column \n",
    "#indicating as '0' as one of the exterior materials containing asbestos\n",
    "df['exterior cover'] = df['Exterior 1st'] * df['Exterior 2nd']"
   ]
  },
  {
   "cell_type": "code",
   "execution_count": 65,
   "metadata": {},
   "outputs": [
    {
     "data": {
      "text/plain": [
       "1st flr sf                int64\n",
       "2nd flr sf                int64\n",
       "bedroom abvgr             int64\n",
       "bldg type                 int64\n",
       "bsmt full bath          float64\n",
       "bsmt half bath          float64\n",
       "cat                      object\n",
       "central air               int64\n",
       "condition 1               int64\n",
       "condition 2               int64\n",
       "electrical                int64\n",
       "enclosed porch            int64\n",
       "exter cond                int64\n",
       "exter qual                int64\n",
       "exterior 1st              int64\n",
       "exterior 2nd              int64\n",
       "fireplaces                int64\n",
       "full bath                 int64\n",
       "functional                int64\n",
       "garage cars             float64\n",
       "gr liv area               int64\n",
       "half bath                 int64\n",
       "heating                   int64\n",
       "heating qc                int64\n",
       "id                        int64\n",
       "kitchen abvgr             int64\n",
       "kitchen qual              int64\n",
       "land contour             object\n",
       "land slope                int64\n",
       "lot area                  int64\n",
       "lot config               object\n",
       "lot shape                 int64\n",
       "ms subclass               int64\n",
       "ms zoning                 int64\n",
       "open porch sf             int64\n",
       "overall cond              int64\n",
       "overall qual              int64\n",
       "paved drive               int64\n",
       "roof matl                 int64\n",
       "roof style                int64\n",
       "saleprice               float64\n",
       "screen porch              int64\n",
       "street                    int64\n",
       "totrms abvgrd             int64\n",
       "total bsmt sf           float64\n",
       "utilities                 int64\n",
       "wood deck sf              int64\n",
       "year built                int64\n",
       "year remod/add            int64\n",
       "baths                   float64\n",
       "overall                   int64\n",
       "outside area              int64\n",
       "condition                 int64\n",
       "exter_net_quality         int64\n",
       "exterior cover            int64\n",
       "neighborhood_blueste      uint8\n",
       "neighborhood_brdale       uint8\n",
       "neighborhood_brkside      uint8\n",
       "neighborhood_clearcr      uint8\n",
       "neighborhood_collgcr      uint8\n",
       "neighborhood_crawfor      uint8\n",
       "neighborhood_edwards      uint8\n",
       "neighborhood_gilbert      uint8\n",
       "neighborhood_greens       uint8\n",
       "neighborhood_grnhill      uint8\n",
       "neighborhood_idotrr       uint8\n",
       "neighborhood_landmrk      uint8\n",
       "neighborhood_meadowv      uint8\n",
       "neighborhood_mitchel      uint8\n",
       "neighborhood_names        uint8\n",
       "neighborhood_npkvill      uint8\n",
       "neighborhood_nwames       uint8\n",
       "neighborhood_noridge      uint8\n",
       "neighborhood_nridght      uint8\n",
       "neighborhood_oldtown      uint8\n",
       "neighborhood_swisu        uint8\n",
       "neighborhood_sawyer       uint8\n",
       "neighborhood_sawyerw      uint8\n",
       "neighborhood_somerst      uint8\n",
       "neighborhood_stonebr      uint8\n",
       "neighborhood_timber       uint8\n",
       "neighborhood_veenker      uint8\n",
       "foundation_cblock         uint8\n",
       "foundation_pconc          uint8\n",
       "foundation_slab           uint8\n",
       "foundation_stone          uint8\n",
       "foundation_wood           uint8\n",
       "house style_1.5unf        uint8\n",
       "house style_1story        uint8\n",
       "house style_2.5fin        uint8\n",
       "house style_2.5unf        uint8\n",
       "house style_2story        uint8\n",
       "house style_sfoyer        uint8\n",
       "house style_slvl          uint8\n",
       "dtype: object"
      ]
     },
     "execution_count": 65,
     "metadata": {},
     "output_type": "execute_result"
    }
   ],
   "source": [
    "#Existing datatypes\n",
    "df.dtypes"
   ]
  },
  {
   "cell_type": "code",
   "execution_count": 53,
   "metadata": {},
   "outputs": [],
   "source": [
    "#Getting dummies for categorical columns ['Neighborhood','Foundation','House Style']\n",
    "df = pd.get_dummies(df, columns=['Neighborhood','Foundation','House Style'], drop_first=True)"
   ]
  },
  {
   "cell_type": "markdown",
   "metadata": {},
   "source": [
    "## 1.4 Data Preparation for Modeling"
   ]
  },
  {
   "cell_type": "code",
   "execution_count": 54,
   "metadata": {},
   "outputs": [],
   "source": [
    "#Getting a list of column names, and making them all lower case for future processing convenience\n",
    "lower_columns = [column.lower() for column in df.columns]\n",
    "df.columns = lower_columns"
   ]
  },
  {
   "cell_type": "code",
   "execution_count": 55,
   "metadata": {},
   "outputs": [],
   "source": [
    "#Splitting data by {'train','test'} \n",
    "df_train = df[df['cat']=='train']\n",
    "df_test = df[df['cat']=='test']"
   ]
  },
  {
   "cell_type": "code",
   "execution_count": 56,
   "metadata": {},
   "outputs": [
    {
     "data": {
      "text/plain": [
       "(2051, 94)"
      ]
     },
     "execution_count": 56,
     "metadata": {},
     "output_type": "execute_result"
    }
   ],
   "source": [
    "#Traing data frame shape\n",
    "df_train.shape"
   ]
  },
  {
   "cell_type": "code",
   "execution_count": 57,
   "metadata": {},
   "outputs": [
    {
     "data": {
      "text/plain": [
       "(879, 94)"
      ]
     },
     "execution_count": 57,
     "metadata": {},
     "output_type": "execute_result"
    }
   ],
   "source": [
    "#Testing data frame shape\n",
    "df_test.shape"
   ]
  },
  {
   "cell_type": "code",
   "execution_count": 58,
   "metadata": {},
   "outputs": [
    {
     "name": "stderr",
     "output_type": "stream",
     "text": [
      "/Users/ilyakvyatkovskiy/anaconda3/lib/python3.7/site-packages/pandas/core/frame.py:4102: SettingWithCopyWarning: \n",
      "A value is trying to be set on a copy of a slice from a DataFrame\n",
      "\n",
      "See the caveats in the documentation: http://pandas.pydata.org/pandas-docs/stable/user_guide/indexing.html#returning-a-view-versus-a-copy\n",
      "  errors=errors,\n"
     ]
    }
   ],
   "source": [
    "#Dropping an auxillary column 'cat' for both data sets\n",
    "df_test.drop(['cat'], axis=1, inplace=True)\n",
    "df_train.drop(['cat'], axis=1, inplace=True)"
   ]
  },
  {
   "cell_type": "code",
   "execution_count": 59,
   "metadata": {},
   "outputs": [
    {
     "data": {
      "text/plain": [
       "1st flr sf              0\n",
       "2nd flr sf              0\n",
       "bedroom abvgr           0\n",
       "bldg type               0\n",
       "bsmt full bath          2\n",
       "bsmt half bath          2\n",
       "central air             0\n",
       "condition 1             0\n",
       "condition 2             0\n",
       "electrical              0\n",
       "enclosed porch          0\n",
       "exter cond              0\n",
       "exter qual              0\n",
       "exterior 1st            0\n",
       "exterior 2nd            0\n",
       "fireplaces              0\n",
       "full bath               0\n",
       "functional              0\n",
       "garage cars             1\n",
       "gr liv area             0\n",
       "half bath               0\n",
       "heating                 0\n",
       "heating qc              0\n",
       "id                      0\n",
       "kitchen abvgr           0\n",
       "kitchen qual            0\n",
       "land contour            0\n",
       "land slope              0\n",
       "lot area                0\n",
       "lot config              0\n",
       "lot shape               0\n",
       "ms subclass             0\n",
       "ms zoning               0\n",
       "open porch sf           0\n",
       "overall cond            0\n",
       "overall qual            0\n",
       "paved drive             0\n",
       "roof matl               0\n",
       "roof style              0\n",
       "saleprice               0\n",
       "screen porch            0\n",
       "street                  0\n",
       "totrms abvgrd           0\n",
       "total bsmt sf           1\n",
       "utilities               0\n",
       "wood deck sf            0\n",
       "year built              0\n",
       "year remod/add          0\n",
       "baths                   2\n",
       "overall                 0\n",
       "outside area            0\n",
       "condition               0\n",
       "exter_net_quality       0\n",
       "exterior cover          0\n",
       "neighborhood_blueste    0\n",
       "neighborhood_brdale     0\n",
       "neighborhood_brkside    0\n",
       "neighborhood_clearcr    0\n",
       "neighborhood_collgcr    0\n",
       "neighborhood_crawfor    0\n",
       "neighborhood_edwards    0\n",
       "neighborhood_gilbert    0\n",
       "neighborhood_greens     0\n",
       "neighborhood_grnhill    0\n",
       "neighborhood_idotrr     0\n",
       "neighborhood_landmrk    0\n",
       "neighborhood_meadowv    0\n",
       "neighborhood_mitchel    0\n",
       "neighborhood_names      0\n",
       "neighborhood_npkvill    0\n",
       "neighborhood_nwames     0\n",
       "neighborhood_noridge    0\n",
       "neighborhood_nridght    0\n",
       "neighborhood_oldtown    0\n",
       "neighborhood_swisu      0\n",
       "neighborhood_sawyer     0\n",
       "neighborhood_sawyerw    0\n",
       "neighborhood_somerst    0\n",
       "neighborhood_stonebr    0\n",
       "neighborhood_timber     0\n",
       "neighborhood_veenker    0\n",
       "foundation_cblock       0\n",
       "foundation_pconc        0\n",
       "foundation_slab         0\n",
       "foundation_stone        0\n",
       "foundation_wood         0\n",
       "house style_1.5unf      0\n",
       "house style_1story      0\n",
       "house style_2.5fin      0\n",
       "house style_2.5unf      0\n",
       "house style_2story      0\n",
       "house style_sfoyer      0\n",
       "house style_slvl        0\n",
       "dtype: int64"
      ]
     },
     "execution_count": 59,
     "metadata": {},
     "output_type": "execute_result"
    }
   ],
   "source": [
    "#Checking the training data frame for missing values\n",
    "df_train.isnull().sum()"
   ]
  },
  {
   "cell_type": "code",
   "execution_count": 60,
   "metadata": {},
   "outputs": [
    {
     "name": "stderr",
     "output_type": "stream",
     "text": [
      "/Users/ilyakvyatkovskiy/anaconda3/lib/python3.7/site-packages/ipykernel_launcher.py:2: SettingWithCopyWarning: \n",
      "A value is trying to be set on a copy of a slice from a DataFrame\n",
      "\n",
      "See the caveats in the documentation: http://pandas.pydata.org/pandas-docs/stable/user_guide/indexing.html#returning-a-view-versus-a-copy\n",
      "  \n"
     ]
    },
    {
     "data": {
      "text/plain": [
       "(2048, 93)"
      ]
     },
     "execution_count": 60,
     "metadata": {},
     "output_type": "execute_result"
    }
   ],
   "source": [
    "#Dropping rows with missing values from our training data frame and checking its shape\n",
    "df_train.dropna(inplace=True)\n",
    "df_train.shape"
   ]
  },
  {
   "cell_type": "markdown",
   "metadata": {},
   "source": [
    "**_Since our original training data set contained 2051 row and we have dropped as a result of data processing just 3 of them, we could conclude it wouldn't harm future processing and modelling dramatically. The assumption and the hope are these rows didn't containg critical data_**"
   ]
  },
  {
   "cell_type": "code",
   "execution_count": 61,
   "metadata": {},
   "outputs": [],
   "source": [
    "#Saving cleant data frame to a csv file\n",
    "df_train.to_csv('./datasets/train_clean.csv')"
   ]
  },
  {
   "cell_type": "code",
   "execution_count": 62,
   "metadata": {},
   "outputs": [],
   "source": [
    "#Dropping a target column from testing data frame for consistency\n",
    "df_test.drop(['saleprice'], axis=1, inplace=True)"
   ]
  },
  {
   "cell_type": "code",
   "execution_count": 63,
   "metadata": {},
   "outputs": [
    {
     "data": {
      "text/plain": [
       "1st flr sf              0\n",
       "2nd flr sf              0\n",
       "bedroom abvgr           0\n",
       "bldg type               0\n",
       "bsmt full bath          0\n",
       "bsmt half bath          0\n",
       "central air             0\n",
       "condition 1             0\n",
       "condition 2             0\n",
       "electrical              0\n",
       "enclosed porch          0\n",
       "exter cond              0\n",
       "exter qual              0\n",
       "exterior 1st            0\n",
       "exterior 2nd            0\n",
       "fireplaces              0\n",
       "full bath               0\n",
       "functional              0\n",
       "garage cars             0\n",
       "gr liv area             0\n",
       "half bath               0\n",
       "heating                 0\n",
       "heating qc              0\n",
       "id                      0\n",
       "kitchen abvgr           0\n",
       "kitchen qual            0\n",
       "land contour            0\n",
       "land slope              0\n",
       "lot area                0\n",
       "lot config              0\n",
       "lot shape               0\n",
       "ms subclass             0\n",
       "ms zoning               0\n",
       "open porch sf           0\n",
       "overall cond            0\n",
       "overall qual            0\n",
       "paved drive             0\n",
       "roof matl               0\n",
       "roof style              0\n",
       "screen porch            0\n",
       "street                  0\n",
       "totrms abvgrd           0\n",
       "total bsmt sf           0\n",
       "utilities               0\n",
       "wood deck sf            0\n",
       "year built              0\n",
       "year remod/add          0\n",
       "baths                   0\n",
       "overall                 0\n",
       "outside area            0\n",
       "condition               0\n",
       "exter_net_quality       0\n",
       "exterior cover          0\n",
       "neighborhood_blueste    0\n",
       "neighborhood_brdale     0\n",
       "neighborhood_brkside    0\n",
       "neighborhood_clearcr    0\n",
       "neighborhood_collgcr    0\n",
       "neighborhood_crawfor    0\n",
       "neighborhood_edwards    0\n",
       "neighborhood_gilbert    0\n",
       "neighborhood_greens     0\n",
       "neighborhood_grnhill    0\n",
       "neighborhood_idotrr     0\n",
       "neighborhood_landmrk    0\n",
       "neighborhood_meadowv    0\n",
       "neighborhood_mitchel    0\n",
       "neighborhood_names      0\n",
       "neighborhood_npkvill    0\n",
       "neighborhood_nwames     0\n",
       "neighborhood_noridge    0\n",
       "neighborhood_nridght    0\n",
       "neighborhood_oldtown    0\n",
       "neighborhood_swisu      0\n",
       "neighborhood_sawyer     0\n",
       "neighborhood_sawyerw    0\n",
       "neighborhood_somerst    0\n",
       "neighborhood_stonebr    0\n",
       "neighborhood_timber     0\n",
       "neighborhood_veenker    0\n",
       "foundation_cblock       0\n",
       "foundation_pconc        0\n",
       "foundation_slab         0\n",
       "foundation_stone        0\n",
       "foundation_wood         0\n",
       "house style_1.5unf      0\n",
       "house style_1story      0\n",
       "house style_2.5fin      0\n",
       "house style_2.5unf      0\n",
       "house style_2story      0\n",
       "house style_sfoyer      0\n",
       "house style_slvl        0\n",
       "dtype: int64"
      ]
     },
     "execution_count": 63,
     "metadata": {},
     "output_type": "execute_result"
    }
   ],
   "source": [
    "#Checking our testing data set for missing values\n",
    "df_test.isnull().sum()"
   ]
  },
  {
   "cell_type": "code",
   "execution_count": 64,
   "metadata": {},
   "outputs": [],
   "source": [
    "#Saving cleant data frame to a csv file\n",
    "df_test.to_csv('./datasets/test_clean.csv')"
   ]
  }
 ],
 "metadata": {
  "kernelspec": {
   "display_name": "Python 3",
   "language": "python",
   "name": "python3"
  },
  "language_info": {
   "codemirror_mode": {
    "name": "ipython",
    "version": 3
   },
   "file_extension": ".py",
   "mimetype": "text/x-python",
   "name": "python",
   "nbconvert_exporter": "python",
   "pygments_lexer": "ipython3",
   "version": "3.7.3"
  }
 },
 "nbformat": 4,
 "nbformat_minor": 2
}
